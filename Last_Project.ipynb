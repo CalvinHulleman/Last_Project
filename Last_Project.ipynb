{
  "nbformat": 4,
  "nbformat_minor": 0,
  "metadata": {
    "colab": {
      "provenance": [],
      "authorship_tag": "ABX9TyM9xDwfD/fMRAP5CoAcO3CM",
      "include_colab_link": true
    },
    "kernelspec": {
      "name": "python3",
      "display_name": "Python 3"
    },
    "language_info": {
      "name": "python"
    }
  },
  "cells": [
    {
      "cell_type": "markdown",
      "metadata": {
        "id": "view-in-github",
        "colab_type": "text"
      },
      "source": [
        "<a href=\"https://colab.research.google.com/github/CalvinHulleman/Last_Project/blob/main/Last_Project.ipynb\" target=\"_parent\"><img src=\"https://colab.research.google.com/assets/colab-badge.svg\" alt=\"Open In Colab\"/></a>"
      ]
    },
    {
      "cell_type": "markdown",
      "source": [
        "The goal of this program is to determine how many times each character speaks in Romeo and Juliet by William Shakespeare."
      ],
      "metadata": {
        "id": "4SyS-0YmQ7U8"
      }
    },
    {
      "cell_type": "code",
      "source": [
        "import re\n",
        "import urllib.request\n",
        "hand = urllib.request.urlopen('https://www.gutenberg.org/cache/epub/1513/pg1513-images.html')"
      ],
      "metadata": {
        "id": "-iK7tkih8p-q"
      },
      "execution_count": 73,
      "outputs": []
    },
    {
      "cell_type": "code",
      "source": [
        "def ascii_histogram(seq) -> None: #create a histogram from a list of numbers\n",
        "  counted = count_elements(seq) #generate frequency table (dictionary)\n",
        "  for key in sorted(counted):\n",
        "    plus_str = '+' * counted[key]\n",
        "    print(f'{key} {plus_str}') #prints out asterisk\n",
        "\n",
        "def count_elements(seq): #creates a dictionary\n",
        "  hist = dict()\n",
        "  for date in seq:\n",
        "    hist[date] = hist.get(date,0)+ 1\n",
        "  return hist\n",
        "\n",
        "end = False\n",
        "names = []\n",
        "for line in hand:\n",
        "  line = line.decode().strip()\n",
        "  if line.find('*** END') == -1:\n",
        "    names.extend(re.findall('[A-Z]{4,10}\\.|[A-Z’]{4,10} [A-Z]{4,10}\\.',line))\n",
        "  else:\n",
        "    break\n",
        "for i in names:\n",
        "  if i == 'PROLOGUE.' or i == 'SCENE.':\n",
        "    names.remove(i)\n",
        "ascii_histogram(names)\n"
      ],
      "metadata": {
        "colab": {
          "base_uri": "https://localhost:8080/"
        },
        "id": "cNoPmLX74S4X",
        "outputId": "22a4fb3a-4346-4467-b5ba-a98ca0d2bd78"
      },
      "execution_count": 74,
      "outputs": [
        {
          "output_type": "stream",
          "name": "stdout",
          "text": [
            "ABRAM. +++++\n",
            "APOTHECARY. ++++\n",
            "BALTHASAR. ++++++++++++\n",
            "BENVOLIO. +++++++++++++++++++++++++++++++++++++++++++++++++++++++++++++++\n",
            "CAPULET. ++++++++++++++++++++++++++++++++++++++++++++++++++\n",
            "CAPULET’S COUSIN. ++\n",
            "CHORUS. ++++\n",
            "FIRST CITIZEN. +++\n",
            "FIRST MUSICIAN. ++++++++++\n",
            "FIRST SERVANT. ++++\n",
            "FIRST WATCH. ++++++\n",
            "FRIAR JOHN. ++++\n",
            "FRIAR LAWRENCE. +++++++++++++++++++++++++++++++++++++++++++++++++++++++\n",
            "GREGORY. +++++++++++++++\n",
            "JULIET. ++++++++++++++++++++++++++++++++++++++++++++++++++++++++++++++++++++++++++++++++++++++++++++++++++++++++++++++++++++++\n",
            "LADY CAPULET. +++++++++++++++++++++++++++++++++++++++++++++\n",
            "LADY MONTAGUE. ++\n",
            "MERCUTIO. ++++++++++++++++++++++++++++++++++++++++++++++++++++++++++++++\n",
            "MONTAGUE. ++++++++++\n",
            "NURSE. ++++++++++++++++++++++++++++++++++++++++++++++++++++++++++++++++++++++++++++++++++++++++++\n",
            "PAGE. ++++\n",
            "PARIS. +++++++++++++++++++++++\n",
            "PETER. +++++++++++++\n",
            "PRINCE. ++++++++++++++++\n",
            "ROMEO. +++++++++++++++++++++++++++++++++++++++++++++++++++++++++++++++++++++++++++++++++++++++++++++++++++++++++++++++++++++++++++++++++++++++++++++++++++++++++++++++++++\n",
            "SAMPSON. ++++++++++++++++++++\n",
            "SECOND MUSICIAN. +++\n",
            "SECOND SERVANT. ++++++\n",
            "SECOND WATCH. +\n",
            "SERVANT. ++++++++++\n",
            "THIRD MUSICIAN. +\n",
            "THIRD WATCH. +\n",
            "TYBALT. +++++++++++++++++\n"
          ]
        }
      ]
    },
    {
      "cell_type": "markdown",
      "source": [
        "As you can see in the histogram above, Romeo and Juliet have by far the most speaking parts. Followed by the Nurse and then Bonvolio."
      ],
      "metadata": {
        "id": "wkzS5J42Q5LO"
      }
    }
  ]
}